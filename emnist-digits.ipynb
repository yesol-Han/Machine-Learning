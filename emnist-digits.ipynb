{
 "cells": [
  {
   "cell_type": "markdown",
   "metadata": {},
   "source": [
    "# 미니 프로젝트 1\n",
    "### 초기화"
   ]
  },
  {
   "cell_type": "code",
   "execution_count": 1,
   "metadata": {},
   "outputs": [],
   "source": [
    "# To support both python 2 and python 3\n",
    "from __future__ import division, print_function, unicode_literals\n",
    "\n",
    "# Common imports\n",
    "import pandas as pd\n",
    "import numpy as np\n",
    "import os\n",
    "\n",
    "# to make this notebook's output stable across runs\n",
    "np.random.seed(42)\n",
    "\n",
    "# To plot pretty figures\n",
    "%matplotlib inline\n",
    "import matplotlib as mpl\n",
    "import matplotlib.pyplot as plt\n",
    "mpl.rc('axes', labelsize=14)\n",
    "mpl.rc('xtick', labelsize=12)\n",
    "mpl.rc('ytick', labelsize=12)"
   ]
  },
  {
   "cell_type": "code",
   "execution_count": 2,
   "metadata": {},
   "outputs": [],
   "source": [
    "# header 없음 설정 참고사이트 https://rfriend.tistory.com/250\n",
    "emnist_train = pd.read_csv('emnist-digits-train.csv', header = None)\n",
    "emnist_test = pd.read_csv('emnist-digits-test.csv', header = None)"
   ]
  },
  {
   "cell_type": "code",
   "execution_count": 3,
   "metadata": {
    "scrolled": false
   },
   "outputs": [
    {
     "data": {
      "text/plain": [
       "0    24000\n",
       "1    24000\n",
       "2    24000\n",
       "3    24000\n",
       "4    24000\n",
       "5    24000\n",
       "6    24000\n",
       "7    24000\n",
       "8    24000\n",
       "9    24000\n",
       "Name: 0, dtype: int64"
      ]
     },
     "execution_count": 3,
     "metadata": {},
     "output_type": "execute_result"
    }
   ],
   "source": [
    "# balance 확인\n",
    "emnist_train.iloc[:,0].value_counts().sort_index()"
   ]
  },
  {
   "cell_type": "code",
   "execution_count": 4,
   "metadata": {},
   "outputs": [
    {
     "data": {
      "text/plain": [
       "(240000, 785)"
      ]
     },
     "execution_count": 4,
     "metadata": {},
     "output_type": "execute_result"
    }
   ],
   "source": [
    "emnist_train.shape"
   ]
  },
  {
   "cell_type": "code",
   "execution_count": 5,
   "metadata": {},
   "outputs": [],
   "source": [
    "X_train = emnist_train.iloc[:,1:]    #images\n",
    "y_train = emnist_train.iloc[:,0]    #target\n",
    "X_test = emnist_test.iloc[:,1:]    #images\n",
    "y_test = emnist_test.iloc[:,0]    #target\n",
    "# https://pandas.pydata.org/pandas-docs/stable/reference/api/pandas.read_csv.html"
   ]
  },
  {
   "cell_type": "code",
   "execution_count": 6,
   "metadata": {},
   "outputs": [
    {
     "name": "stdout",
     "output_type": "stream",
     "text": [
      "(240000, 784) (240000,)\n",
      "(40000, 784) (40000,)\n"
     ]
    }
   ],
   "source": [
    "# 데이터 갯수 확인\n",
    "print(X_train.shape, y_train.shape)\n",
    "print(X_test.shape, y_test.shape)"
   ]
  },
  {
   "cell_type": "markdown",
   "metadata": {},
   "source": [
    "### Cross validation"
   ]
  },
  {
   "cell_type": "code",
   "execution_count": 7,
   "metadata": {},
   "outputs": [],
   "source": [
    "from sklearn.model_selection import cross_val_score\n",
    "from sklearn.model_selection import cross_val_predict\n",
    "ACCs = {}"
   ]
  },
  {
   "cell_type": "code",
   "execution_count": 8,
   "metadata": {},
   "outputs": [
    {
     "name": "stdout",
     "output_type": "stream",
     "text": [
      "Accuracy:  [0.9812 0.9805 0.982  0.9809 0.9801 0.9817 0.9826 0.9813 0.9806 0.9808]\n",
      "Mean Accuracy:  0.9811700000000001\n",
      "Wall time: 9min 1s\n"
     ]
    }
   ],
   "source": [
    "%%time\n",
    "from sklearn.ensemble import RandomForestClassifier\n",
    "forest_clf = RandomForestClassifier(n_estimators=100, n_jobs=-1, random_state=42)\n",
    "scores = cross_val_score(forest_clf, X_train, y_train, n_jobs=-1, cv=10)\n",
    "scores = np.round(scores, 4)\n",
    "mean_acc = sum(scores/10)\n",
    "print(\"Accuracy: \", scores)\n",
    "print(\"Mean Accuracy: \", mean_acc)\n",
    "ACCs['RF'] = mean_acc"
   ]
  },
  {
   "cell_type": "code",
   "execution_count": 9,
   "metadata": {},
   "outputs": [
    {
     "name": "stdout",
     "output_type": "stream",
     "text": [
      "Wall time: 1min 3s\n"
     ]
    },
    {
     "data": {
      "text/plain": [
       "RandomForestClassifier(bootstrap=True, class_weight=None, criterion='gini',\n",
       "                       max_depth=None, max_features='auto', max_leaf_nodes=None,\n",
       "                       min_impurity_decrease=0.0, min_impurity_split=None,\n",
       "                       min_samples_leaf=1, min_samples_split=2,\n",
       "                       min_weight_fraction_leaf=0.0, n_estimators=100,\n",
       "                       n_jobs=-1, oob_score=False, random_state=42, verbose=0,\n",
       "                       warm_start=False)"
      ]
     },
     "execution_count": 9,
     "metadata": {},
     "output_type": "execute_result"
    }
   ],
   "source": [
    "%%time\n",
    "forest_clf_for_var_select = RandomForestClassifier(n_estimators=100,  n_jobs=-1, random_state=42)\n",
    "forest_clf_for_var_select.fit(X_train, y_train)"
   ]
  },
  {
   "cell_type": "code",
   "execution_count": 10,
   "metadata": {},
   "outputs": [
    {
     "name": "stdout",
     "output_type": "stream",
     "text": [
      "상위 400개 feature 선택: 0.9466의 importance를 가짐\n",
      "이하의 변수들이 선택됨\n",
      "265    0.007436\n",
      "215    0.007362\n",
      "515    0.006981\n",
      "237    0.006909\n",
      "238    0.006745\n",
      "424    0.006631\n",
      "214    0.006400\n",
      "236    0.006174\n",
      "264    0.006138\n",
      "235    0.006050\n",
      "425    0.005702\n",
      "209    0.005647\n",
      "543    0.005594\n",
      "242    0.005546\n",
      "488    0.005421\n",
      "542    0.005390\n",
      "570    0.005328\n",
      "243    0.005239\n",
      "188    0.005183\n",
      "293    0.005180\n",
      "514    0.005150\n",
      "218    0.005027\n",
      "397    0.004938\n",
      "270    0.004891\n",
      "321    0.004885\n",
      "161    0.004835\n",
      "378    0.004797\n",
      "292    0.004778\n",
      "213    0.004736\n",
      "377    0.004634\n",
      "         ...   \n",
      "176    0.000946\n",
      "511    0.000940\n",
      "492    0.000931\n",
      "256    0.000930\n",
      "202    0.000924\n",
      "414    0.000912\n",
      "178    0.000912\n",
      "678    0.000910\n",
      "306    0.000903\n",
      "385    0.000897\n",
      "634    0.000896\n",
      "330    0.000895\n",
      "228    0.000892\n",
      "418    0.000887\n",
      "654    0.000883\n",
      "556    0.000852\n",
      "536    0.000843\n",
      "507    0.000837\n",
      "104    0.000819\n",
      "205    0.000818\n",
      "500    0.000814\n",
      "658    0.000813\n",
      "665    0.000808\n",
      "152    0.000797\n",
      "441    0.000792\n",
      "636    0.000769\n",
      "358    0.000768\n",
      "655    0.000767\n",
      "174    0.000766\n",
      "677    0.000765\n",
      "Length: 400, dtype: float64\n",
      "Wall time: 423 ms\n"
     ]
    }
   ],
   "source": [
    "%%time\n",
    "n_features = 400\n",
    "important_features = pd.Series(forest_clf_for_var_select.feature_importances_, index=X_train.columns).sort_values(ascending=False).head(n_features)\n",
    "print(\"상위 %s개 feature 선택: %.4f의 importance를 가짐\"%(n_features, important_features.sum()))      \n",
    "X_train_top_features = X_train[important_features.index]\n",
    "print(\"이하의 변수들이 선택됨\")\n",
    "print(important_features)"
   ]
  },
  {
   "cell_type": "code",
   "execution_count": 11,
   "metadata": {},
   "outputs": [
    {
     "name": "stdout",
     "output_type": "stream",
     "text": [
      "Accuracy:  [0.9808 0.9805 0.9811 0.9809 0.9795 0.9815 0.982  0.9815 0.9798 0.9812]\n",
      "Mean Accuracy:  0.9808799999999999\n",
      "Wall time: 8min 24s\n"
     ]
    }
   ],
   "source": [
    "%%time\n",
    "# 변수선택한 걸로 돌려보기 1\n",
    "from sklearn.ensemble import RandomForestClassifier\n",
    "forest_clf = RandomForestClassifier(n_estimators=100,  n_jobs=-1, random_state=42)\n",
    "scores = cross_val_score(forest_clf, X_train_top_features, y_train, n_jobs=-1, cv=10)\n",
    "scores = np.round(scores, 4)\n",
    "mean_acc = sum(scores/10)\n",
    "print(\"Accuracy: \", scores)\n",
    "print(\"Mean Accuracy: \", mean_acc)\n",
    "ACCs['RF_top'] = mean_acc"
   ]
  },
  {
   "cell_type": "code",
   "execution_count": 20,
   "metadata": {},
   "outputs": [
    {
     "name": "stdout",
     "output_type": "stream",
     "text": [
      "상위 50개 feature 선택: 0.2550의 importance를 가짐\n",
      "Accuracy:  [0.8311 0.8268 0.8317 0.8236 0.8248 0.8297 0.8291 0.8287 0.8241 0.827 ]\n",
      "Mean Accuracy:  0.82766\n",
      "Wall time: 44min 46s\n"
     ]
    }
   ],
   "source": [
    "%%time\n",
    "# 변수선택한 걸로 돌려보기 2\n",
    "from sklearn.linear_model import LogisticRegression\n",
    "# 수렴문제로 일부 피쳐만 사용\n",
    "n_features = 50\n",
    "important_features = pd.Series(forest_clf_for_var_select.feature_importances_, index=X_train.columns).sort_values(ascending=False).head(n_features)\n",
    "print(\"상위 %s개 feature 선택: %.4f의 importance를 가짐\"%(n_features, important_features.sum()))      \n",
    "\n",
    "X_train_top_features = X_train[important_features.index]\n",
    "reg_clf = LogisticRegression(multi_class='ovr', solver=\"liblinear\", n_jobs=-1)\n",
    "scores = cross_val_score(reg_clf, X_train_top_features, y_train, n_jobs=-1, cv=10)\n",
    "scores = np.round(scores, 4)\n",
    "mean_acc = sum(scores/10)\n",
    "print(\"Accuracy: \", scores)\n",
    "print(\"Mean Accuracy: \", mean_acc)\n",
    "ACCs['Logit'] = mean_acc"
   ]
  },
  {
   "cell_type": "raw",
   "metadata": {},
   "source": [
    "%%time\n",
    "# 변수선택한 걸로 돌려보기 3\n",
    "from sklearn.svm import SVC\n",
    "svr_clf = SVC()\n",
    "scores = cross_val_score(svr_clf, X_train_top_features, y_train, n_jobs=-1, cv=10)\n",
    "scores = np.round(scores, 4)\n",
    "mean_acc = sum(scores/10)\n",
    "print(\"Accuracy: \", scores)\n",
    "print(\"Mean Accuracy: \", mean_acc)\n",
    "ACCs['SVC'] = mean_acc\n",
    "\n",
    "# 시간이 너무 오래 걸리고, 성능도 좋지 않았던 것을 확인해서 재실행하지 않았습니다."
   ]
  },
  {
   "cell_type": "code",
   "execution_count": 22,
   "metadata": {},
   "outputs": [
    {
     "name": "stdout",
     "output_type": "stream",
     "text": [
      "{'RF': 0.9811700000000001, 'RF_top': 0.9808799999999999, 'Logit': 0.82766}\n",
      "best performance\n"
     ]
    },
    {
     "data": {
      "text/plain": [
       "('RF', 0.9811700000000001)"
      ]
     },
     "execution_count": 22,
     "metadata": {},
     "output_type": "execute_result"
    }
   ],
   "source": [
    "print(ACCs)\n",
    "print(\"best performance\")\n",
    "top_model = max(ACCs, key=ACCs.get)\n",
    "top_model, ACCs[top_model]"
   ]
  },
  {
   "cell_type": "markdown",
   "metadata": {},
   "source": [
    "### test set 성능"
   ]
  },
  {
   "cell_type": "code",
   "execution_count": 14,
   "metadata": {},
   "outputs": [],
   "source": [
    "from sklearn.metrics import confusion_matrix\n",
    "from sklearn.metrics import accuracy_score"
   ]
  },
  {
   "cell_type": "code",
   "execution_count": 15,
   "metadata": {},
   "outputs": [
    {
     "name": "stdout",
     "output_type": "stream",
     "text": [
      "Wall time: 1min 2s\n"
     ]
    },
    {
     "data": {
      "text/plain": [
       "RandomForestClassifier(bootstrap=True, class_weight=None, criterion='gini',\n",
       "                       max_depth=None, max_features='auto', max_leaf_nodes=None,\n",
       "                       min_impurity_decrease=0.0, min_impurity_split=None,\n",
       "                       min_samples_leaf=1, min_samples_split=2,\n",
       "                       min_weight_fraction_leaf=0.0, n_estimators=100,\n",
       "                       n_jobs=-1, oob_score=False, random_state=42, verbose=0,\n",
       "                       warm_start=False)"
      ]
     },
     "execution_count": 15,
     "metadata": {},
     "output_type": "execute_result"
    }
   ],
   "source": [
    "%%time\n",
    "forest_clf = RandomForestClassifier(n_estimators=100, n_jobs=-1, random_state=42)\n",
    "forest_clf.fit(X_train, y_train)"
   ]
  },
  {
   "cell_type": "code",
   "execution_count": 16,
   "metadata": {},
   "outputs": [
    {
     "data": {
      "text/plain": [
       "array([[23771,     6,    17,    10,    63,    13,    48,     3,    55,\n",
       "           14],\n",
       "       [    1, 23795,    56,    23,    27,    10,    23,    24,    30,\n",
       "           11],\n",
       "       [   30,    11, 23646,    69,    41,     7,    21,    71,    92,\n",
       "           12],\n",
       "       [   23,    14,   166, 23366,    14,   122,     2,    96,   150,\n",
       "           47],\n",
       "       [   33,    13,    49,     2, 23594,     1,    38,    22,    34,\n",
       "          214],\n",
       "       [   45,    10,    27,   221,    27, 23451,    78,     8,    76,\n",
       "           57],\n",
       "       [   60,    23,    21,     4,    22,    84, 23754,     0,    32,\n",
       "            0],\n",
       "       [    4,    27,    90,    13,   120,     5,     2, 23491,    48,\n",
       "          200],\n",
       "       [   56,    65,    66,    79,   114,   131,    48,    14, 23254,\n",
       "          173],\n",
       "       [   35,    29,    21,   120,   194,    27,     4,   113,    99,\n",
       "        23358]], dtype=int64)"
      ]
     },
     "execution_count": 16,
     "metadata": {},
     "output_type": "execute_result"
    }
   ],
   "source": [
    "y_train_pred = cross_val_predict(forest_clf, X_train, y_train, n_jobs=-1, cv=10)\n",
    "conf_mx = confusion_matrix(y_train, y_train_pred)\n",
    "conf_mx"
   ]
  },
  {
   "cell_type": "code",
   "execution_count": 17,
   "metadata": {},
   "outputs": [
    {
     "data": {
      "text/plain": [
       "<matplotlib.image.AxesImage at 0x1d9d47e9940>"
      ]
     },
     "execution_count": 17,
     "metadata": {},
     "output_type": "execute_result"
    },
    {
     "data": {
      "image/png": "[encoded data removed]",
      "text/plain": [
       "<Figure size 288x288 with 1 Axes>"
      ]
     },
     "metadata": {
      "needs_background": "light"
     },
     "output_type": "display_data"
    }
   ],
   "source": [
    "plt.matshow(conf_mx, cmap=plt.cm.gray)"
   ]
  },
  {
   "cell_type": "code",
   "execution_count": 18,
   "metadata": {},
   "outputs": [
    {
     "data": {
      "text/plain": [
       "<matplotlib.image.AxesImage at 0x1d9d488b198>"
      ]
     },
     "execution_count": 18,
     "metadata": {},
     "output_type": "execute_result"
    },
    {
     "data": {
      "image/png": "[encoded data removed]",
      "text/plain": [
       "<Figure size 288x288 with 1 Axes>"
      ]
     },
     "metadata": {
      "needs_background": "light"
     },
     "output_type": "display_data"
    }
   ],
   "source": [
    "row_sums = conf_mx.sum(axis=1, keepdims=True)\n",
    "norm_conf_mx = conf_mx / row_sums\n",
    "np.fill_diagonal(norm_conf_mx, 0)\n",
    "plt.matshow(norm_conf_mx, cmap=plt.cm.gray)"
   ]
  },
  {
   "cell_type": "code",
   "execution_count": 19,
   "metadata": {},
   "outputs": [
    {
     "name": "stdout",
     "output_type": "stream",
     "text": [
      "Train acc: 1.0000\n",
      "Test acc: 0.9820\n"
     ]
    }
   ],
   "source": [
    "train_pred = forest_clf.predict(X_train)\n",
    "train_acc = accuracy_score(train_pred, y_train)\n",
    "print(\"Train acc: %.4f\"%train_acc)\n",
    "\n",
    "test_pred = forest_clf.predict(X_test)\n",
    "test_acc = accuracy_score(test_pred, y_test)\n",
    "print(\"Test acc: %.4f\"%test_acc)\n",
    "#https://subinium.github.io/basic-of-Evaluation/"
   ]
  },
  {
   "cell_type": "markdown",
   "metadata": {},
   "source": [
    "다양한 분류 알고리즘과 특성 엔지니어링을 활용하여 분류기 성능 측정\n",
    "* 다양한 분류 알고리즘(SGD, SVM, DT, RF, 그 외 Ensemble 등) 활용\n",
    "* 특성 엔지니어링(단순 748픽셀 값이 아닌 자신만의 특성 추출 등) 활용\n",
    "* 10-fold 교차 검증, 오차 행렬(confusion matrix)등을 활용해 분류기 성능 검증\n",
    "* 최종적으로 테스트셋을 활용하여 일반화 오류 측정(정확도, accuracy 사용)\n",
    "    - 알고리즘 학습에 절대로 테스트셋 활용 금지!(발견되면 0점 처리)"
   ]
  },
  {
   "cell_type": "markdown",
   "metadata": {},
   "source": [
    "3번째 mnist강의자료가 도움이 됨.\n",
    "\n",
    "https://www.kaggle.com/tonyqian/handwritten-capital-letter-recognition/notebook\n",
    "***검색어: emnist kaggle ipynb\n",
    "    \n",
    "https://github.com/tensorflow/datasets/issues/812\n",
    "참고"
   ]
  }
 ],
 "metadata": {
  "kernelspec": {
   "display_name": "Python 3",
   "language": "python",
   "name": "python3"
  },
  "language_info": {
   "codemirror_mode": {
    "name": "ipython",
    "version": 3
   },
   "file_extension": ".py",
   "mimetype": "text/x-python",
   "name": "python",
   "nbconvert_exporter": "python",
   "pygments_lexer": "ipython3",
   "version": "3.7.3"
  }
 },
 "nbformat": 4,
 "nbformat_minor": 2
}
